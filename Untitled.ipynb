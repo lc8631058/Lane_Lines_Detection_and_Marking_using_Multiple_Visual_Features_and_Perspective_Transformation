{
 "cells": [
  {
   "cell_type": "code",
   "execution_count": 1,
   "metadata": {},
   "outputs": [],
   "source": [
    "import pickle\n",
    "import glob\n",
    "import cv2\n",
    "import numpy as np\n",
    "import matplotlib.pyplot as plt\n",
    "import matplotlib.image as mpimg\n",
    "import os\n",
    "from scipy.misc import imsave\n",
    "from moviepy.editor import VideoFileClip\n",
    "from IPython.display import HTML\n",
    "from collections import deque\n",
    "% matplotlib inline"
   ]
  },
  {
   "cell_type": "code",
   "execution_count": 10,
   "metadata": {},
   "outputs": [
    {
     "ename": "IndentationError",
     "evalue": "unindent does not match any outer indentation level (<tokenize>, line 6)",
     "output_type": "error",
     "traceback": [
      "\u001b[0;36m  File \u001b[0;32m\"<tokenize>\"\u001b[0;36m, line \u001b[0;32m6\u001b[0m\n\u001b[0;31m    if self.found == True:\u001b[0m\n\u001b[0m    ^\u001b[0m\n\u001b[0;31mIndentationError\u001b[0m\u001b[0;31m:\u001b[0m unindent does not match any outer indentation level\n"
     ]
    }
   ],
   "source": [
    "def found_based_search(self, warped, margin=50):\n",
    "        '''\n",
    "        this search is based on previous found, if you already found lines on previous frame,         \n",
    "        it's not necessary to make slide windows search against.\n",
    "        '''\n",
    "    if self.found == True:\n",
    "        nonzero = wraped.nonzero()\n",
    "        nonzeroy = np.array(nonzero[0])\n",
    "        nonzerox = np.array(nonzero[1])\n",
    "\n",
    "        lane_line_inds = ((nonzerox > (np.mean(self.fit0)*(nonzeroy**2) + (np.mean(self.fit1))*nonzeroy + np.mean(self.fit2) - margin))                              & (nonzerox < ((np.mean(self.fit0)*(nonzeroy**2) + (np.mean(self.fit1)*nonzeroy + (np.mean(self.fit2) + margin)))\n",
    "        lane_line_inds = np.array(lane_line_inds)\n",
    "            # Again, extract line pixel positions\n",
    "        x_pos = nonzerox[lane_line_inds]\n",
    "        y_pos = nonzeroy[lane_line_inds]\n",
    "        \n",
    "    if np.sum(x_pos) == 0:\n",
    "        self.found = False\n",
    "    return np.array(x_pos), np.array(y_pos), self.found"
   ]
  },
  {
   "cell_type": "code",
   "execution_count": 1,
   "metadata": {},
   "outputs": [
    {
     "data": {
      "text/plain": [
       "2"
      ]
     },
     "execution_count": 1,
     "metadata": {},
     "output_type": "execute_result"
    }
   ],
   "source": []
  },
  {
   "cell_type": "code",
   "execution_count": null,
   "metadata": {},
   "outputs": [],
   "source": []
  }
 ],
 "metadata": {
  "kernelspec": {
   "display_name": "Python 3",
   "language": "python",
   "name": "python3"
  },
  "language_info": {
   "codemirror_mode": {
    "name": "ipython",
    "version": 3
   },
   "file_extension": ".py",
   "mimetype": "text/x-python",
   "name": "python",
   "nbconvert_exporter": "python",
   "pygments_lexer": "ipython3",
   "version": "3.5.2"
  },
  "widgets": {
   "state": {},
   "version": "1.1.2"
  }
 },
 "nbformat": 4,
 "nbformat_minor": 2
}
