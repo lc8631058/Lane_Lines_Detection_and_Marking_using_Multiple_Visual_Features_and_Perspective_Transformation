{
 "cells": [
  {
   "cell_type": "markdown",
   "metadata": {},
   "source": [
    "# Advanced Lane Finding Project\n",
    "\n",
    "The goals / steps of this project are the following:\n",
    "    Compute the camera calibration matrix and distortion coefficients given a set of chessboard images.\n",
    "    Use color transforms, gradients, etc., to create a thresholded binary image.\n",
    "    Apply a perspective transform to rectify binary image (\"birds-eye view\").\n",
    "    Detect lane pixels and fit to find the lane boundary.\n",
    "    Determine the curvature of the lane and vehicle position with respect to center.\n",
    "    Warp the detected lane boundaries back onto the original image.\n",
    "    Output visual display of the lane boundaries and numerical estimation of lane curvature and vehicle position."
   ]
  },
  {
   "cell_type": "markdown",
   "metadata": {},
   "source": [
    "## Here I will consider the rubric points individually and describe how I addressed each point in my implementation.\n",
    "\n",
    "# Writeup / README\n",
    "## Camera Calibration\n",
    "### 1. Briefly state how you computed the camera matrix and distortion coefficients. Provide an example of a distortion corrected calibration image.\n",
    "The code for this step is contained in the 2-th and 3-th code cells of the IPython notebook located in \"./P4 Advanced Lane Lines Detection.ipynb\".\n",
    "\n",
    "I start by preparing \"object point\",which will be the (x, y, z)coordinates of the chessboard corners in the world. Here I am assuming the chessboard is fixed on the (x,y) plane at z=0, such that the object points are the same for each calibration image. Thus, 'obj' is just a replicated array of coordinates, and 'objpoints' will be appended with a copy of it every time I sucessfully detect all chessboard corners in a test image. 'imagepoints' will be appended with the (x,y) pixel position of each of the corners in the image plane with each successful chessboard detection.\n",
    "\n",
    "I then used the output 'objectpoints' and 'imagepoints' to compute the camera calibration and distortion coefficients using the function I have written called 'cal_undistort', it uses the 'cv2.calibrateCamera()' function to calculate the undistort parameters, then applied the distortion correction to the test image using 'cv2.undistort()' function and used a test image to see the effect:\n"
   ]
  },
  {
   "cell_type": "markdown",
   "metadata": {},
   "source": [
    "# Pipeline(single images)\n",
    "### 1. Provide an example of a distortion-corrected image.\n",
    "To demonstrate this step, I will describe how I apply the distortion correction to one of the test images like this one:\n",
    "(1) At first I have already got the imagepoints and objectpoints from the calibration images.\n",
    "(2) I read a test image from test_images folder using cv2.imread.\n",
    "(3) Convert the BGR image to RGB scale.\n",
    "(4) Use 'cal_undistort()' function to undistort this image.\n",
    "\n",
    "The particular process could be checked in the cells with the title \"Apply a distortion correction to raw images\". \n",
    "\n",
    "'./examples/before-undis.png'\n",
    "'./examples/after-undis.png'"
   ]
  },
  {
   "cell_type": "markdown",
   "metadata": {},
   "source": [
    "### 2. Describe how (and identify where in your code) you used color transforms, gradients or other methods to create a thresholded binary image. Provide an example of a binary image result.\n",
    "To create the thresholded binary image, we have many methods. \n",
    "\n",
    "(1) Absolute Sobel Operator. This method take the derivatiive in the x or y orient of the gray-scale image, x or y could be presupposed by yourself, and apply absolute operation to calculated gradient. Then you will set the minimal and maximal thresholds, the absoluted grdient values which satisfy the thresholds will be judged as 1, otherwise 0, then we get the binary image.\n",
    "\n",
    "(2) Magnitude of Sobel Operator. This method calculate the magnitude using sobel on x and on y orients. And then it applies the same process as (1).\n",
    "\n",
    "(3) Gradients direction. Firt calculate the gray-scale image, then calculate gradient on both x and y orients, take absolute values of them. Use arctan to calculate the direction of the gradients, use thresholds to select pixels from the calculated direction mask, note that these thresholds should be angles.\n",
    "\n",
    "(4) HLS Selection. Simply convert the RGB or BGR image to HLS scale, apply the thresholds to HLS-scaled image.\n",
    "\n",
    "(5) Combined Selection. This method is intend to use all the selection methods from (1) to (4). You can select two or three even four of the methods above to make the selection. For me I use HLS selection, magnitude of Sobel opertor and Gradient direction selection, then I got 3 binary images, and I can use the logic operation \n",
    "I used a combination of color and gradient thresholds to generate a binary image (thresholding steps at lines # through # in another_file.py). Here's an example of my output for this step. (note: this is not actually from one of the test images)\n",
    "\n"
   ]
  },
  {
   "cell_type": "code",
   "execution_count": 1,
   "metadata": {},
   "outputs": [
    {
     "data": {
      "text/plain": [
       "2"
      ]
     },
     "execution_count": 1,
     "metadata": {},
     "output_type": "execute_result"
    }
   ],
   "source": [
    "a = [None, None]\n"
   ]
  },
  {
   "cell_type": "code",
   "execution_count": null,
   "metadata": {},
   "outputs": [],
   "source": []
  }
 ],
 "metadata": {
  "kernelspec": {
   "display_name": "Python 3",
   "language": "python",
   "name": "python3"
  },
  "language_info": {
   "codemirror_mode": {
    "name": "ipython",
    "version": 3
   },
   "file_extension": ".py",
   "mimetype": "text/x-python",
   "name": "python",
   "nbconvert_exporter": "python",
   "pygments_lexer": "ipython3",
   "version": "3.5.2"
  },
  "widgets": {
   "state": {},
   "version": "1.1.2"
  }
 },
 "nbformat": 4,
 "nbformat_minor": 2
}
